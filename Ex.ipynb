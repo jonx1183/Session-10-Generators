{
 "cells": [
  {
   "cell_type": "markdown",
   "metadata": {},
   "source": [
    "Ex 1"
   ]
  },
  {
   "cell_type": "code",
   "execution_count": 14,
   "metadata": {},
   "outputs": [
    {
     "name": "stdout",
     "output_type": "stream",
     "text": [
      "('Josh', 1255)\n",
      "('Amy', 2233)\n"
     ]
    }
   ],
   "source": [
    "class PythonStudents:\n",
    "    def __init__(self):\n",
    "        self.students = []\n",
    "    \n",
    "    def add_student(self, student):\n",
    "        self.students.append(student)\n",
    "\n",
    "    def __iter__(self):\n",
    "        self.index = 0\n",
    "        return self\n",
    "    \n",
    "    def __next__(self):\n",
    "        if self.index < len(self.students):\n",
    "            current_student = self.students[self.index]\n",
    "            self.index += 1\n",
    "            return current_student.name, current_student.cpr\n",
    "        else:\n",
    "            raise StopIteration\n",
    "    \n",
    "\n",
    "\n",
    "class Student:\n",
    "\n",
    "    def __init__(self, name, cpr):\n",
    "        self.name = name\n",
    "        self.cpr = cpr\n",
    "    \n",
    "    @property\n",
    "    def name(self):\n",
    "        return self.__name  \n",
    "    \n",
    "    @name.setter\n",
    "    def name(self, name):\n",
    "        self.__name = name.capitalize()\n",
    "\n",
    "    def __add__(self, student):\n",
    "        return Student('Jhon', 1234)\n",
    "    \n",
    "    def __str__(self):\n",
    "        return f'{self.name}, {self.cpr}'\n",
    "    \n",
    "    def __repr__(self):\n",
    "        return f'{self.__dict__}'\n",
    "    \n",
    "\n",
    "pythonStudents = PythonStudents()\n",
    "student1 = Student(\"Josh\", 1255)\n",
    "student2 = Student('Amy', 2233)\n",
    "\n",
    "pythonStudents.add_student(student1)\n",
    "pythonStudents.add_student(student2)\n",
    "\n",
    "for i in pythonStudents:\n",
    "    print(i)"
   ]
  }
 ],
 "metadata": {
  "kernelspec": {
   "display_name": "Python 3",
   "language": "python",
   "name": "python3"
  },
  "language_info": {
   "codemirror_mode": {
    "name": "ipython",
    "version": 3
   },
   "file_extension": ".py",
   "mimetype": "text/x-python",
   "name": "python",
   "nbconvert_exporter": "python",
   "pygments_lexer": "ipython3",
   "version": "3.11.4"
  }
 },
 "nbformat": 4,
 "nbformat_minor": 2
}
